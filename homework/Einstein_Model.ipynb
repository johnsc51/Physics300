def factorial(x):
    if x == 0 or x == 1:
        return 1
    else:
        return x * factorial(x - 1)

def omega(N, q):
    return factorial(q + N - 1) / (factorial(q) * factorial(N - 1))

num_of_oscillators = 2

print("i\tj\tTotal Energy\tOmega")

for i in range(3):
    for j in range(3):
        if (i + j) > 2:
            continue
        print(str(i) + "\t" + str(j) + "\t" + str(i + j) + "\t\t" + str(int(omega(num_of_oscillators, i + j))))
        
